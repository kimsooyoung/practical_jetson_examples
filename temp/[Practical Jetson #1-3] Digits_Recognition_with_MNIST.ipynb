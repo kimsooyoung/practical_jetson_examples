{
  "cells": [
    {
      "cell_type": "markdown",
      "metadata": {
        "id": "view-in-github",
        "colab_type": "text"
      },
      "source": [
        "<a href=\"https://colab.research.google.com/github/kimsooyoung/practical_jetson_examples/blob/main/temp/%5BPractical%20Jetson%20%231-3%5D%20Digits_Recognition_with_MNIST.ipynb\" target=\"_parent\"><img src=\"https://colab.research.google.com/assets/colab-badge.svg\" alt=\"Open In Colab\"/></a>"
      ]
    },
    {
      "cell_type": "markdown",
      "source": [
        "# **Practical Exercise with MNIST Example #1-3 - \"Train with CNN Model\"**"
      ],
      "metadata": {
        "id": "p1qSmFgtsrZP"
      }
    },
    {
      "cell_type": "markdown",
      "source": [
        "**[!important] Check your Runtime type bf running this example (Runtime > Change runtime type)**"
      ],
      "metadata": {
        "id": "lv09M06Ps1fU"
      }
    },
    {
      "cell_type": "code",
      "execution_count": null,
      "metadata": {
        "id": "7cygoWNCWrjR"
      },
      "outputs": [],
      "source": [
        "import torch\n",
        "import torch.nn.init\n",
        "import torchvision.datasets as datasets\n",
        "import torchvision.transforms as transforms"
      ]
    },
    {
      "cell_type": "markdown",
      "source": [
        "# **GPU usability check**"
      ],
      "metadata": {
        "id": "W8APY0yEs71p"
      }
    },
    {
      "cell_type": "code",
      "execution_count": null,
      "metadata": {
        "id": "RNQzt4pFWrjU",
        "outputId": "ac9b5550-027d-4768-de04-a73b7035617d",
        "colab": {
          "base_uri": "https://localhost:8080/"
        }
      },
      "outputs": [
        {
          "output_type": "execute_result",
          "data": {
            "text/plain": [
              "device(type='cuda')"
            ]
          },
          "metadata": {},
          "execution_count": 5
        }
      ],
      "source": [
        "device = torch.device('cuda') if torch.cuda.is_available() else torch.device('cpu')\n",
        "device"
      ]
    },
    {
      "cell_type": "markdown",
      "source": [
        "## **Define Hyperparameters**"
      ],
      "metadata": {
        "id": "7Et0t8VsM8RQ"
      }
    },
    {
      "cell_type": "code",
      "source": [
        "learning_rate = 0.001\n",
        "training_epochs = 15\n",
        "batch_size = 100"
      ],
      "metadata": {
        "id": "hHxSoNqRNA_N"
      },
      "execution_count": null,
      "outputs": []
    },
    {
      "cell_type": "markdown",
      "source": [
        "## **Train/Test data through Dataloader**"
      ],
      "metadata": {
        "id": "85UcttnrNDKH"
      }
    },
    {
      "cell_type": "code",
      "execution_count": null,
      "metadata": {
        "id": "dbhHqbtBWrjX",
        "outputId": "cc03b304-0992-4c72-c88c-2d85e27da9b6",
        "colab": {
          "base_uri": "https://localhost:8080/"
        }
      },
      "outputs": [
        {
          "output_type": "stream",
          "name": "stdout",
          "text": [
            "60000\n",
            "10000\n"
          ]
        }
      ],
      "source": [
        "mnist_train = datasets.MNIST(root='MNIST_data/',         # root: download path\n",
        "                        train=True,                      # train dataset\n",
        "                        transform=transforms.ToTensor(), # 텐서로 변환\n",
        "                        download=True)                   # download = True: If no data on the root, download it.\n",
        "\n",
        "mnist_test = datasets.MNIST(root='MNIST_data/',\n",
        "                        train=False,                     # test dataset\n",
        "                        transform=transforms.ToTensor(),\n",
        "                        download=True)\n",
        "\n",
        "# Print dataset size\n",
        "print(len(mnist_train))\n",
        "print(len(mnist_test))"
      ]
    },
    {
      "cell_type": "markdown",
      "source": [
        "## **Define DataLoader**\n",
        "\n",
        "* `DataLoader` reads dataset and fetches data in batch. This makes it more easier and efficient to train the model."
      ],
      "metadata": {
        "id": "RgjSUZYbNkql"
      }
    },
    {
      "cell_type": "code",
      "execution_count": null,
      "metadata": {
        "id": "cAFW3IkaWrja"
      },
      "outputs": [],
      "source": [
        "data_loader = torch.utils.data.DataLoader(dataset=mnist_train, # Push train dataset into DataLoader\n",
        "                                        batch_size=batch_size, # batch size\n",
        "                                        shuffle=True,          # random suffle option\n",
        "                                        drop_last=True)        # whether to discard the last batch if it is less than batch_size. / If True, discard the last remaining data."
      ]
    },
    {
      "cell_type": "markdown",
      "source": [
        "## **3 Layer CNN Model**"
      ],
      "metadata": {
        "id": "0T54PPEtOlFu"
      }
    },
    {
      "cell_type": "code",
      "execution_count": null,
      "metadata": {
        "id": "dgtyiJm8Wrja"
      },
      "outputs": [],
      "source": [
        "class CNN(torch.nn.Module):\n",
        "\n",
        "    def __init__(self):\n",
        "        super(CNN, self).__init__()\n",
        "\n",
        "\n",
        "        #### Layer1 ####\n",
        "        # Image Input shape = (Data Length, Width, Height, Channel)\n",
        "        # Input shape = (N, 28, 28, 1)\n",
        "        # Conv = (N, 28, 28, 32)\n",
        "        # Pool = (N, 14, 14, 32)\n",
        "        self.layer1 = torch.nn.Sequential(\n",
        "            torch.nn.Conv2d(1, 32, kernel_size=3, stride=1, padding=1),\n",
        "            torch.nn.ReLU(),\n",
        "            torch.nn.MaxPool2d(kernel_size=2, stride=2))\n",
        "\n",
        "        #### Layer2 ####\n",
        "        # Input shape = (N, 14, 14, 32)\n",
        "        # Conv = (N, 14, 14, 64)\n",
        "        # Pool = (N, 7, 7, 64)\n",
        "        self.layer2 = torch.nn.Sequential(\n",
        "            torch.nn.Conv2d(32, 64, kernel_size=3, stride=1, padding=1),\n",
        "            torch.nn.ReLU(),\n",
        "            torch.nn.MaxPool2d(kernel_size=2, stride=2))\n",
        "\n",
        "        #### Layer3 ####\n",
        "        # Fully connected layer\n",
        "        # Input shape = (N, 7, 7, 64)\n",
        "        # Output = (N, 10)\n",
        "        self.fc = torch.nn.Linear(7 * 7 * 64, 10, bias=True)\n",
        "\n",
        "        # Initialize weights with Xavier initialization to the fully connected layer only\n",
        "        torch.nn.init.xavier_uniform_(self.fc.weight)\n",
        "\n",
        "    # forward pass\n",
        "    def forward(self, x):\n",
        "        out = self.layer1(x)\n",
        "        out = self.layer2(out)\n",
        "        out = out.view(out.size(0), -1)   # flatten for fully connected layer\n",
        "        out = self.fc(out)\n",
        "        return out\n",
        "\n",
        "# Model instance with GPU\n",
        "model = CNN().to(device)"
      ]
    },
    {
      "cell_type": "markdown",
      "source": [
        "## **Optimizer and Loss Function**"
      ],
      "metadata": {
        "id": "fCAFGXWxP2CI"
      }
    },
    {
      "cell_type": "code",
      "execution_count": null,
      "metadata": {
        "id": "1bOxDDQ4Wrjd"
      },
      "outputs": [],
      "source": [
        "# Define CrossEntropyLoss suitable for multi-class classification\n",
        "criterion = torch.nn.CrossEntropyLoss().to(device)\n",
        "\n",
        "# Using Adam Optimization Algorithm\n",
        "optimizer = torch.optim.Adam(model.parameters(), lr=learning_rate)"
      ]
    },
    {
      "cell_type": "markdown",
      "source": [
        "## **Main Train Loop**"
      ],
      "metadata": {
        "id": "7vSeyyIXWrjf"
      }
    },
    {
      "cell_type": "code",
      "execution_count": null,
      "metadata": {
        "id": "xFVOW3UqWrjf",
        "outputId": "6f5d8885-ff2a-4107-97bd-7c67b292c3cb",
        "colab": {
          "base_uri": "https://localhost:8080/"
        }
      },
      "outputs": [
        {
          "output_type": "stream",
          "name": "stdout",
          "text": [
            "[Epoch:    1] cost = 0.221689969\n",
            "[Epoch:    2] cost = 0.0599666983\n",
            "[Epoch:    3] cost = 0.0435661599\n",
            "[Epoch:    4] cost = 0.0360821448\n",
            "[Epoch:    5] cost = 0.0293143354\n",
            "[Epoch:    6] cost = 0.0251823589\n",
            "[Epoch:    7] cost = 0.02032586\n",
            "[Epoch:    8] cost = 0.0171206556\n",
            "[Epoch:    9] cost = 0.0148831559\n",
            "[Epoch:   10] cost = 0.0131219123\n",
            "[Epoch:   11] cost = 0.0110590309\n",
            "[Epoch:   12] cost = 0.00921344664\n",
            "[Epoch:   13] cost = 0.00751071097\n",
            "[Epoch:   14] cost = 0.00662531937\n",
            "[Epoch:   15] cost = 0.00646132929\n"
          ]
        }
      ],
      "source": [
        "total_batch = len(data_loader)\n",
        "\n",
        "for epoch in range(training_epochs):\n",
        "\n",
        "    avg_cost = 0\n",
        "\n",
        "    for X, Y in data_loader:\n",
        "        X = X.to(device) # X : input image data\n",
        "        Y = Y.to(device) # Y : Answer label\n",
        "\n",
        "        optimizer.zero_grad()\n",
        "\n",
        "        hypothesis = model(X)\n",
        "        cost = criterion(hypothesis, Y)\n",
        "        cost.backward()\n",
        "\n",
        "        optimizer.step()\n",
        "        avg_cost += cost / total_batch\n",
        "\n",
        "    # Outputs the average loss of Epoch.\n",
        "    print('[Epoch: {:>4}] cost = {:>.9}'.format(epoch + 1, avg_cost))"
      ]
    },
    {
      "cell_type": "markdown",
      "source": [
        "## **Model Accuracy Validation**"
      ],
      "metadata": {
        "id": "frp2VHc5Qrww"
      }
    },
    {
      "cell_type": "code",
      "execution_count": null,
      "metadata": {
        "id": "FrWcHvk-Wrjh",
        "outputId": "608c009b-7785-4603-9100-13d532ae16bc",
        "colab": {
          "base_uri": "https://localhost:8080/"
        }
      },
      "outputs": [
        {
          "output_type": "stream",
          "name": "stdout",
          "text": [
            "Accuracy: 0.9824000000953674\n"
          ]
        },
        {
          "output_type": "stream",
          "name": "stderr",
          "text": [
            "/usr/local/lib/python3.10/dist-packages/torchvision/datasets/mnist.py:80: UserWarning: test_data has been renamed data\n",
            "  warnings.warn(\"test_data has been renamed data\")\n",
            "/usr/local/lib/python3.10/dist-packages/torchvision/datasets/mnist.py:70: UserWarning: test_labels has been renamed targets\n",
            "  warnings.warn(\"test_labels has been renamed targets\")\n"
          ]
        }
      ],
      "source": [
        "# Disable gradient calculation bcs will not proceed with training to update the weights of the Model\n",
        "with torch.no_grad():\n",
        "\n",
        "    X_test = mnist_test.test_data.view(len(mnist_test), 1, 28, 28).float().to(device)  # .float(): converts pixel values to floating points\n",
        "    Y_test = mnist_test.test_labels.to(device)\n",
        "\n",
        "    prediction = model(X_test)\n",
        "\n",
        "    # Compare the predicted with the correct answer label for each test data\n",
        "    correct_prediction = (torch.argmax(prediction, 1) == Y_test)\n",
        "\n",
        "    accuracy = correct_prediction.float().mean()\n",
        "    print('Accuracy:', accuracy.item())"
      ]
    },
    {
      "cell_type": "markdown",
      "source": [
        "## **Save Trained Model**"
      ],
      "metadata": {
        "id": "WiqCPRSdRV0-"
      }
    },
    {
      "cell_type": "code",
      "execution_count": null,
      "metadata": {
        "id": "FDKxNArJWrji"
      },
      "outputs": [],
      "source": [
        "torch.save({\n",
        "    'model_state_dict': model.state_dict(),\n",
        "    'optimizer_state_dict': optimizer.state_dict(),\n",
        "    'epoch': epoch + 1,\n",
        "    'avg_cost': avg_cost.item(),\n",
        "    'learning_rate': learning_rate,  # Save Hyperparameter\n",
        "    'batch_size': batch_size,        # Save Hyperparameter\n",
        "}, './CNN_trained_model.pth')"
      ]
    }
  ],
  "metadata": {
    "kernelspec": {
      "display_name": "Python 3",
      "name": "python3"
    },
    "language_info": {
      "codemirror_mode": {
        "name": "ipython",
        "version": 3
      },
      "file_extension": ".py",
      "mimetype": "text/x-python",
      "name": "python",
      "nbconvert_exporter": "python",
      "pygments_lexer": "ipython3",
      "version": "3.11.5"
    },
    "orig_nbformat": 4,
    "vscode": {
      "interpreter": {
        "hash": "0653088ab9c42fe21b96b65ad0bf5cf3aee344e985527787357f72dd548f399b"
      }
    },
    "colab": {
      "provenance": [],
      "gpuType": "T4",
      "include_colab_link": true
    },
    "accelerator": "GPU"
  },
  "nbformat": 4,
  "nbformat_minor": 0
}