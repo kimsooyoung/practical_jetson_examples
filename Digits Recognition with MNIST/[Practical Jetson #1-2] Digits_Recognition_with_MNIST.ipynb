{
  "cells": [
    {
      "cell_type": "markdown",
      "metadata": {
        "id": "view-in-github",
        "colab_type": "text"
      },
      "source": [
        "<a href=\"https://colab.research.google.com/github/kimsooyoung/practical_jetson_examples/blob/main/Digits%20Recognition%20with%20MNIST/%5BPractical%20Jetson%20%231-2%5D%20Digits_Recognition_with_MNIST.ipynb\" target=\"_parent\"><img src=\"https://colab.research.google.com/assets/colab-badge.svg\" alt=\"Open In Colab\"/></a>"
      ]
    },
    {
      "cell_type": "markdown",
      "metadata": {
        "id": "zNe040agAkEB"
      },
      "source": [
        "# **Practical Exercise with MNIST Example #1-2 - \"Predict Part\"**"
      ]
    },
    {
      "cell_type": "markdown",
      "source": [
        "**[!important] Check your Runtime type bf running this example (Runtime > Change runtime type)**"
      ],
      "metadata": {
        "id": "I991oTWwJ9u6"
      }
    },
    {
      "cell_type": "code",
      "execution_count": null,
      "metadata": {
        "id": "gNYWCEfrAkEE"
      },
      "outputs": [],
      "source": [
        "import torch\n",
        "import torch.nn as nn\n",
        "import torch.optim as optim\n",
        "from torchvision import datasets, transforms\n",
        "\n",
        "import sys\n",
        "import cv2\n",
        "import numpy as np\n",
        "import matplotlib.pyplot as plt\n",
        "from copy import deepcopy\n",
        "import easydict\n",
        "\n",
        "# Colab only\n",
        "from google.colab.patches import cv2_imshow"
      ]
    },
    {
      "cell_type": "markdown",
      "source": [
        "# **GPU usability check**"
      ],
      "metadata": {
        "id": "dGbufRsyKX1e"
      }
    },
    {
      "cell_type": "code",
      "source": [
        "device = torch.device('cuda') if torch.cuda.is_available() else torch.device('cpu')\n",
        "device"
      ],
      "metadata": {
        "id": "6cP3seNkKbJi",
        "colab": {
          "base_uri": "https://localhost:8080/"
        },
        "outputId": "5deb581a-4542-4c1e-ac1e-8be7268e3077"
      },
      "execution_count": null,
      "outputs": [
        {
          "output_type": "execute_result",
          "data": {
            "text/plain": [
              "device(type='cuda')"
            ]
          },
          "metadata": {},
          "execution_count": 33
        }
      ]
    },
    {
      "cell_type": "markdown",
      "metadata": {
        "id": "kV47fR-zLW2T"
      },
      "source": [
        "# **Same Model as Before**"
      ]
    },
    {
      "cell_type": "code",
      "execution_count": null,
      "metadata": {
        "id": "wg2q2NOLLZRv",
        "cellView": "form"
      },
      "outputs": [],
      "source": [
        "# @title\n",
        "class Block(nn.Module):\n",
        "\n",
        "    def __init__(self,\n",
        "                input_size,\n",
        "                output_size,\n",
        "                use_batch_norm=True,\n",
        "                dropout_p=.4):\n",
        "        self.input_size = input_size\n",
        "        self.output_size = output_size\n",
        "        self.use_batch_norm = use_batch_norm\n",
        "        self.dropout_p = dropout_p\n",
        "\n",
        "        super().__init__()\n",
        "\n",
        "        def get_regularizer(use_batch_norm, size):\n",
        "            # BatchNorm1d: Convert one MNIST dataset into 784 dim vector (784 means node for fully connected layer)\n",
        "            return nn.BatchNorm1d(size) if use_batch_norm else nn.Dropout(dropout_p)\n",
        "\n",
        "        self.block = nn.Sequential(\n",
        "            nn.Linear(input_size, output_size),\n",
        "            nn.LeakyReLU(),\n",
        "            get_regularizer(use_batch_norm, output_size),\n",
        "        )\n",
        "\n",
        "    def forward(self, x):\n",
        "        # |x| = (batch_size, input_size)\n",
        "        y = self.block(x)\n",
        "        # |y| = (batch_size, output_size)\n",
        "\n",
        "        return y\n",
        "\n",
        "class ImageClassifier(nn.Module):\n",
        "\n",
        "    def __init__(self,\n",
        "                input_size,\n",
        "                output_size,\n",
        "                hidden_sizes=[500, 400, 300, 200, 100],\n",
        "                use_batch_norm=True,\n",
        "                dropout_p=.4):\n",
        "\n",
        "        super().__init__()\n",
        "\n",
        "        assert len(hidden_sizes) > 0, \"You need to specify hidden layers\"\n",
        "\n",
        "        last_hidden_size = input_size\n",
        "        blocks = []\n",
        "        for hidden_size in hidden_sizes:\n",
        "            blocks += [Block(\n",
        "                last_hidden_size,\n",
        "                hidden_size,\n",
        "                use_batch_norm,\n",
        "                dropout_p\n",
        "            )]\n",
        "            last_hidden_size = hidden_size\n",
        "\n",
        "        self.layers = nn.Sequential(\n",
        "            *blocks,\n",
        "            nn.Linear(last_hidden_size, output_size),\n",
        "            nn.LogSoftmax(dim=-1),\n",
        "        )\n",
        "\n",
        "    def forward(self, x):\n",
        "        # |x| = (batch_size, input_size)\n",
        "        y = self.layers(x)\n",
        "        # |y| = (batch_size, output_size)\n",
        "\n",
        "        return y"
      ]
    },
    {
      "cell_type": "markdown",
      "metadata": {
        "id": "ouAbz7kaFbst"
      },
      "source": [
        "# **Also Same DataLoader as Before**"
      ]
    },
    {
      "cell_type": "code",
      "execution_count": null,
      "metadata": {
        "id": "lIpQIw59FjTd",
        "cellView": "form"
      },
      "outputs": [],
      "source": [
        "# @title\n",
        "def load_mnist(is_train=True, flatten=True):\n",
        "\n",
        "    dataset = datasets.MNIST('../data',      # ../data: path for MNIST Dataset\n",
        "        train=is_train,               # is_train  load train dataset for True, load test dataset for False\n",
        "        download=True,\n",
        "        transform=transforms.Compose([\n",
        "            transforms.ToTensor(),         # convert image info tensor using transforms.ToTensor()\n",
        "        ]),\n",
        "    )\n",
        "\n",
        "    x = dataset.data.float() / 255.   # / 255 : From 255 level pixel value into 0-1 scale\n",
        "    y = dataset.targets               # ground truth tensor\n",
        "\n",
        "    if flatten:\n",
        "        x = x.view(x.size(0), -1)    # 28*28 = 784 (2D image into 1D vector)\n",
        "\n",
        "    return x, y\n",
        "\n",
        "\n",
        "def split_data(x, y, train_ratio=.8):\n",
        "\n",
        "    train_cnt = int(x.size(0) * train_ratio)\n",
        "    valid_cnt = x.size(0) - train_cnt\n",
        "\n",
        "    # Shuffle dataset to split into train/valid set.\n",
        "    indices = torch.randperm(x.size(0))\n",
        "    x = torch.index_select(\n",
        "        x,\n",
        "        dim=0,\n",
        "        index=indices\n",
        "    ).split([train_cnt, valid_cnt], dim=0)\n",
        "\n",
        "    y = torch.index_select(\n",
        "        y,\n",
        "        dim=0,\n",
        "        index=indices\n",
        "    ).split([train_cnt, valid_cnt], dim=0)\n",
        "\n",
        "    return x, y\n",
        "\n",
        "\n",
        "def get_hidden_sizes(input_size, output_size, n_layers):\n",
        "    step_size = int((input_size - output_size) / n_layers)\n",
        "\n",
        "    hidden_sizes = []\n",
        "    current_size = input_size\n",
        "    for i in range(n_layers - 1):\n",
        "        hidden_sizes += [current_size - step_size]\n",
        "        current_size = hidden_sizes[-1]\n",
        "\n",
        "    return hidden_sizes\n"
      ]
    },
    {
      "cell_type": "markdown",
      "metadata": {
        "id": "RoArVbPHJ1Oj"
      },
      "source": [
        "## **Funtions for Result Test**"
      ]
    },
    {
      "cell_type": "markdown",
      "source": [
        "**[!important] You must have to import a trained `.pth` file in this workspace!**"
      ],
      "metadata": {
        "id": "bLOn2M-1TKJu"
      }
    },
    {
      "cell_type": "code",
      "source": [
        "import os.path\n",
        "file = './model_test.pth'\n",
        "\n",
        "if os.path.isfile(file):\n",
        "  print(\"Model File Found Keep Going :)\")\n",
        "else:\n",
        "  print(\"[ERROR] No Model File Found :(\")"
      ],
      "metadata": {
        "colab": {
          "base_uri": "https://localhost:8080/"
        },
        "id": "67fBIfhBSvp_",
        "outputId": "7f9a5697-16de-4424-87e5-d71bed7c984b"
      },
      "execution_count": null,
      "outputs": [
        {
          "output_type": "stream",
          "name": "stdout",
          "text": [
            "Model File Found Keep Going :)\n"
          ]
        }
      ]
    },
    {
      "cell_type": "markdown",
      "metadata": {
        "id": "YMFV1ahKJ1Ok"
      },
      "source": [
        "* **helper functions for result validating**"
      ]
    },
    {
      "cell_type": "code",
      "execution_count": null,
      "metadata": {
        "id": "vI_-mPL1AkEH"
      },
      "outputs": [],
      "source": [
        "# trained model file name and path\n",
        "model_fn = \"./model_test.pth\"\n",
        "\n",
        "# Loads an object saved with torch.save() from a file.\n",
        "def load(fn, device):\n",
        "\n",
        "    d = torch.load(fn, map_location=device)\n",
        "\n",
        "    return d['model'], d['config']\n",
        "\n",
        "# visualize input image and prediction result.\n",
        "def plot(x, y_hat):\n",
        "\n",
        "    for i in range(x.size(0)):\n",
        "        img = (np.array(x[i].detach().cpu(), dtype='float')).reshape(28,28)\n",
        "        print(y_hat[i])\n",
        "        plt.imshow(img, cmap='gray')\n",
        "        plt.show()\n",
        "        print(\"Predict:\", float(torch.argmax(y_hat[i], dim=-1)))"
      ]
    },
    {
      "cell_type": "markdown",
      "metadata": {
        "id": "EmZg1Z0lJ1Om"
      },
      "source": [
        "* **Accuracy Test function**"
      ]
    },
    {
      "cell_type": "code",
      "execution_count": null,
      "metadata": {
        "id": "2SlZqiDvJ1Om"
      },
      "outputs": [],
      "source": [
        "def test(model, x, y, to_be_shown=True):\n",
        "    model.eval()\n",
        "\n",
        "    with torch.no_grad(): # loss packprop should be halt during testing\n",
        "\n",
        "        y_hat = model(x)\n",
        "\n",
        "        # y: long tensor  # y_hat: log scale prob value\n",
        "        correct_cnt = (y.squeeze() == torch.argmax(y_hat, dim=-1)).sum()\n",
        "        total_cnt = float(x.size(0))\n",
        "\n",
        "        accuracy = correct_cnt / total_cnt\n",
        "        print(\"Accuracy: %.4f\" % accuracy)\n",
        "\n",
        "        if to_be_shown:\n",
        "            plot(x, y_hat)"
      ]
    },
    {
      "cell_type": "markdown",
      "metadata": {
        "id": "xvSVTo2DJ1On"
      },
      "source": [
        "## **Model Evaluation Main Loop**"
      ]
    },
    {
      "cell_type": "code",
      "execution_count": null,
      "metadata": {
        "id": "A0vM7pL_J1Oo",
        "outputId": "e03168d6-62f8-4465-93b3-47e14d668b17",
        "colab": {
          "base_uri": "https://localhost:8080/"
        }
      },
      "outputs": [
        {
          "output_type": "stream",
          "name": "stdout",
          "text": [
            "Accuracy: 0.9785\n"
          ]
        }
      ],
      "source": [
        "# Load MNIST test set.\n",
        "x, y = load_mnist(is_train=False)\n",
        "# 2D image into 1D vector\n",
        "x = x.view(x.size(0), -1)\n",
        "\n",
        "# move tensor values into GPU\n",
        "x, y = x.to(device), y.to(device)\n",
        "\n",
        "# input image size : 784 (=28*28)\n",
        "# output class : 10 (0 to 9)\n",
        "input_size = int(x.shape[-1])\n",
        "output_size = int(max(y)) + 1\n",
        "\n",
        "# load model and configuration\n",
        "model_dict, train_config = load(model_fn, device)\n",
        "# define same model as previous prediction model\n",
        "model = ImageClassifier(\n",
        "    input_size=input_size,\n",
        "    output_size=output_size,\n",
        "    hidden_sizes=get_hidden_sizes(input_size,\n",
        "                                output_size,\n",
        "                                train_config.n_layers),\n",
        "    use_batch_norm=not train_config.use_dropout,\n",
        "    dropout_p=train_config.dropout_p,\n",
        ").to(device)\n",
        "\n",
        "# load trained params\n",
        "model.load_state_dict(model_dict)\n",
        "\n",
        "# Final test Execution!\n",
        "test(model, x, y, to_be_shown=False)"
      ]
    },
    {
      "cell_type": "code",
      "execution_count": null,
      "metadata": {
        "id": "_3IL6yp7J1Oq",
        "outputId": "8930ef75-9996-43b5-ba53-14887b036472",
        "colab": {
          "base_uri": "https://localhost:8080/",
          "height": 1000
        }
      },
      "outputs": [
        {
          "output_type": "stream",
          "name": "stdout",
          "text": [
            "Accuracy: 1.0000\n",
            "tensor([-1.5789e+01, -1.4968e+01, -1.0907e+01, -1.4230e+01, -1.5390e+01,\n",
            "        -1.7838e+01, -2.6334e+01, -5.4358e-05, -1.8675e+01, -1.0273e+01],\n",
            "       device='cuda:0')\n"
          ]
        },
        {
          "output_type": "display_data",
          "data": {
            "text/plain": [
              "<Figure size 640x480 with 1 Axes>"
            ],
            "image/png": "[encoded data removed]"
          },
          "metadata": {}
        },
        {
          "output_type": "stream",
          "name": "stdout",
          "text": [
            "Predict: 7.0\n",
            "tensor([-1.3483e+01, -1.0697e+01, -3.9100e-05, -1.2147e+01, -1.4108e+01,\n",
            "        -1.8407e+01, -1.5569e+01, -1.1779e+01, -1.3635e+01, -2.0423e+01],\n",
            "       device='cuda:0')\n"
          ]
        },
        {
          "output_type": "display_data",
          "data": {
            "text/plain": [
              "<Figure size 640x480 with 1 Axes>"
            ],
            "image/png": "[encoded data removed]"
          },
          "metadata": {}
        },
        {
          "output_type": "stream",
          "name": "stdout",
          "text": [
            "Predict: 2.0\n"
          ]
        }
      ],
      "source": [
        "# display 2 among total 10000 dataset\n",
        "n_test = 2\n",
        "test(model, x[:n_test], y[:n_test], to_be_shown=True)"
      ]
    },
    {
      "cell_type": "markdown",
      "metadata": {
        "id": "LeRAz2JsJ1Oq"
      },
      "source": [
        "## **Handwritten Digit Recognition - You can use your own image here!**"
      ]
    },
    {
      "cell_type": "markdown",
      "source": [
        "* image pre-processing before inference"
      ],
      "metadata": {
        "id": "Z1UCp4LJTUBx"
      }
    },
    {
      "cell_type": "code",
      "execution_count": null,
      "metadata": {
        "id": "x8OBmUWqJ1Or"
      },
      "outputs": [],
      "source": [
        "def preprocess_image(image_path):\n",
        "    # color to grayscale\n",
        "    img_color = cv2.imread(image_path, cv2.IMREAD_COLOR)\n",
        "    img_gray = cv2.cvtColor(img_color, cv2.COLOR_BGR2GRAY)\n",
        "\n",
        "    # Image Thresholding : https://docs.opencv.org/3.4/d7/d4d/tutorial_py_thresholding.html\n",
        "    ret,img_binary = cv2.threshold(img_gray, 100, 255, cv2.THRESH_BINARY_INV | cv2.THRESH_OTSU)\n",
        "\n",
        "    # Morphological Transformations : https://docs.opencv.org/3.4/d9/d61/tutorial_py_morphological_ops.html\n",
        "    kernel = cv2.getStructuringElement( cv2.MORPH_RECT, ( 5, 5 ) )\n",
        "    img_binary = cv2.morphologyEx(img_binary, cv2. MORPH_CLOSE, kernel)\n",
        "\n",
        "    # visualization for validation\n",
        "    cv2_imshow(img_binary)\n",
        "\n",
        "    # Resize image as the model input\n",
        "    img_binary = cv2.resize(img_binary, (28, 28), interpolation=cv2.INTER_AREA)\n",
        "\n",
        "    # Image to torch.Tensor\n",
        "    img_binary = torch.tensor(img_binary, dtype=torch.float32)\n",
        "\n",
        "    # Normalize and channel addition\n",
        "    img_binary = img_binary.unsqueeze(0).unsqueeze(0) / 255.0\n",
        "\n",
        "    # 2D image into 1D\n",
        "    img_binary = img_binary.view(1, -1)\n",
        "    print(img_binary.size())\n",
        "\n",
        "    return img_binary"
      ]
    },
    {
      "cell_type": "markdown",
      "source": [
        "## **Change image path/name and run prediction!**"
      ],
      "metadata": {
        "id": "9tBkX1qwRoRB"
      }
    },
    {
      "cell_type": "markdown",
      "source": [
        "**[!important] You must specify image file name and path in this workspace!**\n"
      ],
      "metadata": {
        "id": "mwfP1wUdTffx"
      }
    },
    {
      "cell_type": "code",
      "source": [
        "import os.path\n",
        "\n",
        "image_path = './test_6.jpg'\n",
        "# image_path = './capture_8.jpg'\n",
        "\n",
        "if os.path.isfile(image_path):\n",
        "  print(\"Image File Found Keep Going :)\")\n",
        "else:\n",
        "  print(\"[ERROR] No Image File :(\")"
      ],
      "metadata": {
        "colab": {
          "base_uri": "https://localhost:8080/"
        },
        "id": "XXDybZ_STfD_",
        "outputId": "45c88a0a-26b5-4af8-c066-b1a9646fb2c8"
      },
      "execution_count": null,
      "outputs": [
        {
          "output_type": "stream",
          "name": "stdout",
          "text": [
            "Image File Found Keep Going :)\n"
          ]
        }
      ]
    },
    {
      "cell_type": "code",
      "source": [
        "def predict(image_path):\n",
        "    image = preprocess_image(image_path)\n",
        "    image = image.to(device)\n",
        "\n",
        "    with torch.no_grad():\n",
        "        output = model(image)\n",
        "\n",
        "    _, predicted = torch.max(output, 1)\n",
        "    print(f'Predicted Output: {output}')\n",
        "    return predicted.item()\n",
        "\n",
        "result = predict(image_path)\n",
        "print(f'The predicted number is: {result}')"
      ],
      "metadata": {
        "colab": {
          "base_uri": "https://localhost:8080/",
          "height": 297
        },
        "id": "Ptra8WUDQG63",
        "outputId": "23292b37-13d3-475a-c1af-ee533d809eb7"
      },
      "execution_count": null,
      "outputs": [
        {
          "output_type": "display_data",
          "data": {
            "text/plain": [
              "<PIL.Image.Image image mode=L size=155x187>"
            ],
            "image/png": "[encoded data removed]"
          },
          "metadata": {}
        },
        {
          "output_type": "stream",
          "name": "stdout",
          "text": [
            "torch.Size([1, 784])\n",
            "Predicted Output: tensor([[-1.1226e+01, -1.4619e+01, -1.5825e+01, -1.8205e+01, -1.2518e+01,\n",
            "         -8.1789e+00, -3.5029e-04, -2.1673e+01, -9.8613e+00, -1.8179e+01]],\n",
            "       device='cuda:0')\n",
            "The predicted number is: 6\n"
          ]
        }
      ]
    },
    {
      "cell_type": "markdown",
      "metadata": {
        "id": "jTs9ahIjJ1Os"
      },
      "source": [
        "--------------"
      ]
    }
  ],
  "metadata": {
    "colab": {
      "provenance": [],
      "gpuType": "T4",
      "include_colab_link": true
    },
    "kernelspec": {
      "display_name": "Python 3",
      "name": "python3"
    },
    "language_info": {
      "codemirror_mode": {
        "name": "ipython",
        "version": 3
      },
      "file_extension": ".py",
      "mimetype": "text/x-python",
      "name": "python",
      "nbconvert_exporter": "python",
      "pygments_lexer": "ipython3",
      "version": "3.11.5"
    },
    "accelerator": "GPU"
  },
  "nbformat": 4,
  "nbformat_minor": 0
}